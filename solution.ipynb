{
 "cells": [
  {
   "cell_type": "code",
   "execution_count": 18,
   "metadata": {},
   "outputs": [],
   "source": [
    "import os\n",
    "from time import ctime"
   ]
  },
  {
   "cell_type": "code",
   "execution_count": 35,
   "metadata": {},
   "outputs": [
    {
     "name": "stdout",
     "output_type": "stream",
     "text": [
      "Directory does not exist: /opt/airflow/target\n"
     ]
    }
   ],
   "source": [
    "import os\n",
    "\n",
    "create_time_list = []\n",
    "\n",
    "# ที่อยู่ของโฟลเดอร์\n",
    "directory = \"/opt/airflow/target\"\n",
    "\n",
    "# ตรวจสอบว่าโฟลเดอร์มีอยู่หรือไม่\n",
    "if not os.path.exists(directory):\n",
    "    print(f\"Directory does not exist: {directory}\")\n",
    "else:\n",
    "    # ใช้ next() เพื่อดึงข้อมูลจาก os.walk()\n",
    "    try:\n",
    "        root, _, files = next(os.walk(directory))\n",
    "    except StopIteration:\n",
    "        print(f\"Error: No files found in directory: {directory}\")\n",
    "    else:\n",
    "        if files:\n",
    "            for file in files:\n",
    "                filepath = os.path.join(root, file)\n",
    "                create_time = os.path.getctime(filepath)\n",
    "                create_time_list.append(create_time)\n",
    "            \n",
    "            if create_time_list:\n",
    "                # หาไฟล์ที่มีเวลาเก่าที่สุด\n",
    "                oldest_file = sorted(\n",
    "                    dict(zip(files, create_time_list)).items(), key=lambda x: x[1]\n",
    "                )[0][0]\n",
    "                print(f\"The oldest file is: {oldest_file}\")\n",
    "            else:\n",
    "                print(\"No files found in the directory.\")\n"
   ]
  },
  {
   "cell_type": "code",
   "execution_count": null,
   "metadata": {},
   "outputs": [
    {
     "data": {
      "text/plain": [
       "'E:/filesensor/target/test2.csv'"
      ]
     },
     "execution_count": 11,
     "metadata": {},
     "output_type": "execute_result"
    }
   ],
   "source": [
    "f\"{root}/{oldets_file}\""
   ]
  },
  {
   "cell_type": "code",
   "execution_count": null,
   "metadata": {},
   "outputs": [
    {
     "data": {
      "text/plain": [
       "[1721373325.1646256, 1721374586.7460952, 1721374599.179518]"
      ]
     },
     "execution_count": 43,
     "metadata": {},
     "output_type": "execute_result"
    }
   ],
   "source": [
    "create_time_list"
   ]
  },
  {
   "cell_type": "code",
   "execution_count": null,
   "metadata": {},
   "outputs": [],
   "source": [
    "ctime = ctime(os.path.getctime(\"./target/test2.csv\"))"
   ]
  },
  {
   "cell_type": "code",
   "execution_count": null,
   "metadata": {},
   "outputs": [
    {
     "data": {
      "text/plain": [
       "'Fri Jul 19 14:15:25 2024'"
      ]
     },
     "execution_count": 7,
     "metadata": {},
     "output_type": "execute_result"
    }
   ],
   "source": [
    "ctime"
   ]
  },
  {
   "cell_type": "code",
   "execution_count": null,
   "metadata": {},
   "outputs": [
    {
     "data": {
      "text/plain": [
       "1721383846.865042"
      ]
     },
     "execution_count": 31,
     "metadata": {},
     "output_type": "execute_result"
    }
   ],
   "source": [
    "import pendulum\n",
    "\n",
    "pendulum.DateTime.now().float_timestamp"
   ]
  }
 ],
 "metadata": {
  "kernelspec": {
   "display_name": "airflow-dev",
   "language": "python",
   "name": "python3"
  },
  "language_info": {
   "codemirror_mode": {
    "name": "ipython",
    "version": 3
   },
   "file_extension": ".py",
   "mimetype": "text/x-python",
   "name": "python",
   "nbconvert_exporter": "python",
   "pygments_lexer": "ipython3",
   "version": "3.12.2"
  }
 },
 "nbformat": 4,
 "nbformat_minor": 2
}
